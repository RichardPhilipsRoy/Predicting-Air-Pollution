{
  "nbformat": 4,
  "nbformat_minor": 0,
  "metadata": {
    "colab": {
      "name": "Untitled17.ipynb",
      "provenance": [],
      "collapsed_sections": []
    },
    "kernelspec": {
      "name": "python3",
      "display_name": "Python 3"
    }
  },
  "cells": [
    {
      "cell_type": "code",
      "metadata": {
        "id": "r4m1QUD8Lt4y",
        "colab_type": "code",
        "outputId": "6ab796ff-1cf9-4da0-bd10-801462fb8ff1",
        "colab": {
          "base_uri": "https://localhost:8080/",
          "height": 51
        }
      },
      "source": [
        "!unzip air-pollution-in-seoul.zip"
      ],
      "execution_count": 58,
      "outputs": [
        {
          "output_type": "stream",
          "text": [
            "Archive:  air-pollution-in-seoul.zip\n",
            "replace AirPollutionSeoul/Measurement_summary.csv? [y]es, [n]o, [A]ll, [N]one, [r]ename: "
          ],
          "name": "stdout"
        }
      ]
    },
    {
      "cell_type": "code",
      "metadata": {
        "id": "aLafiv1zMqa3",
        "colab_type": "code",
        "colab": {}
      },
      "source": [
        "import pandas as pd\n",
        "import numpy as np \n",
        "% matplotlib inline\n",
        "import matplotlib.pyplot as plt"
      ],
      "execution_count": 0,
      "outputs": []
    },
    {
      "cell_type": "code",
      "metadata": {
        "id": "nZUi7009M9kN",
        "colab_type": "code",
        "outputId": "d774b162-4dfc-4ca0-91fe-75abd47433ce",
        "colab": {
          "base_uri": "https://localhost:8080/",
          "height": 306
        }
      },
      "source": [
        "data = pd.read_csv('AirPollutionSeoul/Measurement_summary.csv')\n",
        "data.head()"
      ],
      "execution_count": 60,
      "outputs": [
        {
          "output_type": "execute_result",
          "data": {
            "text/html": [
              "<div>\n",
              "<style scoped>\n",
              "    .dataframe tbody tr th:only-of-type {\n",
              "        vertical-align: middle;\n",
              "    }\n",
              "\n",
              "    .dataframe tbody tr th {\n",
              "        vertical-align: top;\n",
              "    }\n",
              "\n",
              "    .dataframe thead th {\n",
              "        text-align: right;\n",
              "    }\n",
              "</style>\n",
              "<table border=\"1\" class=\"dataframe\">\n",
              "  <thead>\n",
              "    <tr style=\"text-align: right;\">\n",
              "      <th></th>\n",
              "      <th>Measurement date</th>\n",
              "      <th>Station code</th>\n",
              "      <th>Address</th>\n",
              "      <th>Latitude</th>\n",
              "      <th>Longitude</th>\n",
              "      <th>SO2</th>\n",
              "      <th>NO2</th>\n",
              "      <th>O3</th>\n",
              "      <th>CO</th>\n",
              "      <th>PM10</th>\n",
              "      <th>PM2.5</th>\n",
              "    </tr>\n",
              "  </thead>\n",
              "  <tbody>\n",
              "    <tr>\n",
              "      <th>0</th>\n",
              "      <td>2017-01-01 00:00</td>\n",
              "      <td>101</td>\n",
              "      <td>19, Jong-ro 35ga-gil, Jongno-gu, Seoul, Republ...</td>\n",
              "      <td>37.572016</td>\n",
              "      <td>127.005007</td>\n",
              "      <td>0.004</td>\n",
              "      <td>0.059</td>\n",
              "      <td>0.002</td>\n",
              "      <td>1.2</td>\n",
              "      <td>73.0</td>\n",
              "      <td>57.0</td>\n",
              "    </tr>\n",
              "    <tr>\n",
              "      <th>1</th>\n",
              "      <td>2017-01-01 01:00</td>\n",
              "      <td>101</td>\n",
              "      <td>19, Jong-ro 35ga-gil, Jongno-gu, Seoul, Republ...</td>\n",
              "      <td>37.572016</td>\n",
              "      <td>127.005007</td>\n",
              "      <td>0.004</td>\n",
              "      <td>0.058</td>\n",
              "      <td>0.002</td>\n",
              "      <td>1.2</td>\n",
              "      <td>71.0</td>\n",
              "      <td>59.0</td>\n",
              "    </tr>\n",
              "    <tr>\n",
              "      <th>2</th>\n",
              "      <td>2017-01-01 02:00</td>\n",
              "      <td>101</td>\n",
              "      <td>19, Jong-ro 35ga-gil, Jongno-gu, Seoul, Republ...</td>\n",
              "      <td>37.572016</td>\n",
              "      <td>127.005007</td>\n",
              "      <td>0.004</td>\n",
              "      <td>0.056</td>\n",
              "      <td>0.002</td>\n",
              "      <td>1.2</td>\n",
              "      <td>70.0</td>\n",
              "      <td>59.0</td>\n",
              "    </tr>\n",
              "    <tr>\n",
              "      <th>3</th>\n",
              "      <td>2017-01-01 03:00</td>\n",
              "      <td>101</td>\n",
              "      <td>19, Jong-ro 35ga-gil, Jongno-gu, Seoul, Republ...</td>\n",
              "      <td>37.572016</td>\n",
              "      <td>127.005007</td>\n",
              "      <td>0.004</td>\n",
              "      <td>0.056</td>\n",
              "      <td>0.002</td>\n",
              "      <td>1.2</td>\n",
              "      <td>70.0</td>\n",
              "      <td>58.0</td>\n",
              "    </tr>\n",
              "    <tr>\n",
              "      <th>4</th>\n",
              "      <td>2017-01-01 04:00</td>\n",
              "      <td>101</td>\n",
              "      <td>19, Jong-ro 35ga-gil, Jongno-gu, Seoul, Republ...</td>\n",
              "      <td>37.572016</td>\n",
              "      <td>127.005007</td>\n",
              "      <td>0.003</td>\n",
              "      <td>0.051</td>\n",
              "      <td>0.002</td>\n",
              "      <td>1.2</td>\n",
              "      <td>69.0</td>\n",
              "      <td>61.0</td>\n",
              "    </tr>\n",
              "  </tbody>\n",
              "</table>\n",
              "</div>"
            ],
            "text/plain": [
              "   Measurement date  Station code  ...  PM10  PM2.5\n",
              "0  2017-01-01 00:00           101  ...  73.0   57.0\n",
              "1  2017-01-01 01:00           101  ...  71.0   59.0\n",
              "2  2017-01-01 02:00           101  ...  70.0   59.0\n",
              "3  2017-01-01 03:00           101  ...  70.0   58.0\n",
              "4  2017-01-01 04:00           101  ...  69.0   61.0\n",
              "\n",
              "[5 rows x 11 columns]"
            ]
          },
          "metadata": {
            "tags": []
          },
          "execution_count": 60
        }
      ]
    },
    {
      "cell_type": "code",
      "metadata": {
        "id": "cFj-Od2FNYr7",
        "colab_type": "code",
        "outputId": "82ddb3df-48d4-462d-a973-739ab95c4f5a",
        "colab": {
          "base_uri": "https://localhost:8080/",
          "height": 34
        }
      },
      "source": [
        "df=data['PM10']\n",
        "df=df.values\n",
        "df=df.reshape(df.shape[0],1)\n",
        "print(df.shape)"
      ],
      "execution_count": 61,
      "outputs": [
        {
          "output_type": "stream",
          "text": [
            "(647511, 1)\n"
          ],
          "name": "stdout"
        }
      ]
    },
    {
      "cell_type": "code",
      "metadata": {
        "id": "rzYngv6_TPhh",
        "colab_type": "code",
        "outputId": "13d40aab-9e79-4bba-8819-ba625085d7a6",
        "colab": {
          "base_uri": "https://localhost:8080/",
          "height": 34
        }
      },
      "source": [
        "list_=[]\n",
        "for i in range (0,df.shape[0]):\n",
        "  list_.append(df[i][0])\n",
        "print(len(list_))"
      ],
      "execution_count": 62,
      "outputs": [
        {
          "output_type": "stream",
          "text": [
            "647511\n"
          ],
          "name": "stdout"
        }
      ]
    },
    {
      "cell_type": "code",
      "metadata": {
        "id": "mFSUAFonN2ht",
        "colab_type": "code",
        "outputId": "30d86dd7-d8f5-4f79-c258-7331326b077c",
        "colab": {
          "base_uri": "https://localhost:8080/",
          "height": 34
        }
      },
      "source": [
        "window_size=5\n",
        "y=[]\n",
        "for i in range (0,len(list_)-5):\n",
        "  x=list_[i:i+window_size]\n",
        "  y.append(x)\n",
        "print(len(y),y[0])"
      ],
      "execution_count": 63,
      "outputs": [
        {
          "output_type": "stream",
          "text": [
            "647506 [73.0, 71.0, 70.0, 70.0, 69.0]\n"
          ],
          "name": "stdout"
        }
      ]
    },
    {
      "cell_type": "code",
      "metadata": {
        "id": "jOkLjiONN_dz",
        "colab_type": "code",
        "outputId": "46bcde4f-ec25-4dc5-a0c2-11d3d1ba3a20",
        "colab": {
          "base_uri": "https://localhost:8080/",
          "height": 34
        }
      },
      "source": [
        "matrix=np.matrix(y)\n",
        "print(matrix.shape)"
      ],
      "execution_count": 64,
      "outputs": [
        {
          "output_type": "stream",
          "text": [
            "(647506, 5)\n"
          ],
          "name": "stdout"
        }
      ]
    },
    {
      "cell_type": "code",
      "metadata": {
        "id": "0Z5frRmicq9M",
        "colab_type": "code",
        "outputId": "0165e2cd-b6f8-4af1-934f-84791c1ab1ca",
        "colab": {
          "base_uri": "https://localhost:8080/",
          "height": 136
        }
      },
      "source": [
        "print(matrix[:,4])"
      ],
      "execution_count": 65,
      "outputs": [
        {
          "output_type": "stream",
          "text": [
            "[[69.]\n",
            " [70.]\n",
            " [66.]\n",
            " ...\n",
            " [25.]\n",
            " [24.]\n",
            " [25.]]\n"
          ],
          "name": "stdout"
        }
      ]
    },
    {
      "cell_type": "code",
      "metadata": {
        "id": "SG1fsHWxOPTk",
        "colab_type": "code",
        "outputId": "0a43393f-7f21-4bd9-96d4-a5363c5f4c36",
        "colab": {
          "base_uri": "https://localhost:8080/",
          "height": 102
        }
      },
      "source": [
        "from sklearn import linear_model\n",
        "from sklearn.model_selection import train_test_split\n",
        "from sklearn.metrics import r2_score\n",
        "from sklearn.metrics import mean_squared_error\n",
        "X_train, X_test, y_train, y_test = train_test_split(matrix[:,0:4],matrix[:,4],test_size=0.33, random_state=42)\n",
        "lm = linear_model.LinearRegression()\n",
        "model = lm.fit(X_train,y_train)\n",
        "prediction=model.predict(X_test)\n",
        "print(prediction.shape,prediction[0:5])"
      ],
      "execution_count": 66,
      "outputs": [
        {
          "output_type": "stream",
          "text": [
            "(213677, 1) [[21.74557102]\n",
            " [44.69368274]\n",
            " [49.40633618]\n",
            " [29.06804932]\n",
            " [27.9314545 ]]\n"
          ],
          "name": "stdout"
        }
      ]
    },
    {
      "cell_type": "code",
      "metadata": {
        "id": "bye3z6vaOvbl",
        "colab_type": "code",
        "outputId": "fbb93d69-384e-4fae-c232-98ecfa53c0fa",
        "colab": {
          "base_uri": "https://localhost:8080/",
          "height": 68
        }
      },
      "source": [
        "print(model.score(X_train,y_train))\n",
        "print(model.intercept_)\n",
        "print(model.coef_)"
      ],
      "execution_count": 67,
      "outputs": [
        {
          "output_type": "stream",
          "text": [
            "0.5105500456186143\n",
            "[7.06947185]\n",
            "[[0.13482933 0.17524373 0.22460835 0.30336867]]\n"
          ],
          "name": "stdout"
        }
      ]
    },
    {
      "cell_type": "code",
      "metadata": {
        "id": "K9AvmWqwO0h1",
        "colab_type": "code",
        "outputId": "6446ca6f-4f61-42f0-9daa-4ab2c496ddc1",
        "colab": {
          "base_uri": "https://localhost:8080/",
          "height": 51
        }
      },
      "source": [
        "print(mean_squared_error(y_test,prediction)**0.5)\n",
        "print(r2_score(y_test,prediction))"
      ],
      "execution_count": 68,
      "outputs": [
        {
          "output_type": "stream",
          "text": [
            "49.07479051474295\n",
            "0.5316690253848002\n"
          ],
          "name": "stdout"
        }
      ]
    },
    {
      "cell_type": "code",
      "metadata": {
        "id": "tUpcjRA2hCQz",
        "colab_type": "code",
        "colab": {}
      },
      "source": [
        ""
      ],
      "execution_count": 0,
      "outputs": []
    }
  ]
}