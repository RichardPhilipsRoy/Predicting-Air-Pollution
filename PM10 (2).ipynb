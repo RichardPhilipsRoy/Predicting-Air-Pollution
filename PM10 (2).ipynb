{
  "nbformat": 4,
  "nbformat_minor": 0,
  "metadata": {
    "colab": {
      "name": "Untitled17.ipynb",
      "provenance": [],
      "collapsed_sections": []
    },
    "kernelspec": {
      "name": "python3",
      "display_name": "Python 3"
    }
  },
  "cells": [
    {
      "cell_type": "code",
      "metadata": {
        "id": "r4m1QUD8Lt4y",
        "colab_type": "code",
        "outputId": "67472147-5686-4783-8f34-9e31e5aea1ae",
        "colab": {
          "base_uri": "https://localhost:8080/",
          "height": 102
        }
      },
      "source": [
        "!unzip air-pollution-in-seoul.zip"
      ],
      "execution_count": 0,
      "outputs": [
        {
          "output_type": "stream",
          "text": [
            "Archive:  air-pollution-in-seoul.zip\n",
            "  inflating: AirPollutionSeoul/Measurement_summary.csv  \n",
            "  inflating: AirPollutionSeoul/Original Data/Measurement_info.csv  \n",
            "  inflating: AirPollutionSeoul/Original Data/Measurement_item_info.csv  \n",
            "  inflating: AirPollutionSeoul/Original Data/Measurement_station_info.csv  \n"
          ],
          "name": "stdout"
        }
      ]
    },
    {
      "cell_type": "code",
      "metadata": {
        "id": "aLafiv1zMqa3",
        "colab_type": "code",
        "colab": {}
      },
      "source": [
        "import pandas as pd\n",
        "import numpy as np \n",
        "% matplotlib inline\n",
        "import matplotlib.pyplot as plt"
      ],
      "execution_count": 0,
      "outputs": []
    },
    {
      "cell_type": "code",
      "metadata": {
        "id": "nZUi7009M9kN",
        "colab_type": "code",
        "outputId": "f39c549f-6ac0-45ea-cff3-7337b9228412",
        "colab": {
          "base_uri": "https://localhost:8080/",
          "height": 359
        }
      },
      "source": [
        "data = pd.read_csv('AirPollutionSeoul/Measurement_summary.csv')\n",
        "data.head(10)"
      ],
      "execution_count": 21,
      "outputs": [
        {
          "output_type": "execute_result",
          "data": {
            "text/html": [
              "<div>\n",
              "<style scoped>\n",
              "    .dataframe tbody tr th:only-of-type {\n",
              "        vertical-align: middle;\n",
              "    }\n",
              "\n",
              "    .dataframe tbody tr th {\n",
              "        vertical-align: top;\n",
              "    }\n",
              "\n",
              "    .dataframe thead th {\n",
              "        text-align: right;\n",
              "    }\n",
              "</style>\n",
              "<table border=\"1\" class=\"dataframe\">\n",
              "  <thead>\n",
              "    <tr style=\"text-align: right;\">\n",
              "      <th></th>\n",
              "      <th>Measurement date</th>\n",
              "      <th>Station code</th>\n",
              "      <th>Address</th>\n",
              "      <th>Latitude</th>\n",
              "      <th>Longitude</th>\n",
              "      <th>SO2</th>\n",
              "      <th>NO2</th>\n",
              "      <th>O3</th>\n",
              "      <th>CO</th>\n",
              "      <th>PM10</th>\n",
              "      <th>PM2.5</th>\n",
              "    </tr>\n",
              "  </thead>\n",
              "  <tbody>\n",
              "    <tr>\n",
              "      <th>0</th>\n",
              "      <td>2017-01-01 00:00</td>\n",
              "      <td>101</td>\n",
              "      <td>19, Jong-ro 35ga-gil, Jongno-gu, Seoul, Republ...</td>\n",
              "      <td>37.572016</td>\n",
              "      <td>127.005007</td>\n",
              "      <td>0.004</td>\n",
              "      <td>0.059</td>\n",
              "      <td>0.002</td>\n",
              "      <td>1.2</td>\n",
              "      <td>73.0</td>\n",
              "      <td>57.0</td>\n",
              "    </tr>\n",
              "    <tr>\n",
              "      <th>1</th>\n",
              "      <td>2017-01-01 01:00</td>\n",
              "      <td>101</td>\n",
              "      <td>19, Jong-ro 35ga-gil, Jongno-gu, Seoul, Republ...</td>\n",
              "      <td>37.572016</td>\n",
              "      <td>127.005007</td>\n",
              "      <td>0.004</td>\n",
              "      <td>0.058</td>\n",
              "      <td>0.002</td>\n",
              "      <td>1.2</td>\n",
              "      <td>71.0</td>\n",
              "      <td>59.0</td>\n",
              "    </tr>\n",
              "    <tr>\n",
              "      <th>2</th>\n",
              "      <td>2017-01-01 02:00</td>\n",
              "      <td>101</td>\n",
              "      <td>19, Jong-ro 35ga-gil, Jongno-gu, Seoul, Republ...</td>\n",
              "      <td>37.572016</td>\n",
              "      <td>127.005007</td>\n",
              "      <td>0.004</td>\n",
              "      <td>0.056</td>\n",
              "      <td>0.002</td>\n",
              "      <td>1.2</td>\n",
              "      <td>70.0</td>\n",
              "      <td>59.0</td>\n",
              "    </tr>\n",
              "    <tr>\n",
              "      <th>3</th>\n",
              "      <td>2017-01-01 03:00</td>\n",
              "      <td>101</td>\n",
              "      <td>19, Jong-ro 35ga-gil, Jongno-gu, Seoul, Republ...</td>\n",
              "      <td>37.572016</td>\n",
              "      <td>127.005007</td>\n",
              "      <td>0.004</td>\n",
              "      <td>0.056</td>\n",
              "      <td>0.002</td>\n",
              "      <td>1.2</td>\n",
              "      <td>70.0</td>\n",
              "      <td>58.0</td>\n",
              "    </tr>\n",
              "    <tr>\n",
              "      <th>4</th>\n",
              "      <td>2017-01-01 04:00</td>\n",
              "      <td>101</td>\n",
              "      <td>19, Jong-ro 35ga-gil, Jongno-gu, Seoul, Republ...</td>\n",
              "      <td>37.572016</td>\n",
              "      <td>127.005007</td>\n",
              "      <td>0.003</td>\n",
              "      <td>0.051</td>\n",
              "      <td>0.002</td>\n",
              "      <td>1.2</td>\n",
              "      <td>69.0</td>\n",
              "      <td>61.0</td>\n",
              "    </tr>\n",
              "    <tr>\n",
              "      <th>5</th>\n",
              "      <td>2017-01-01 05:00</td>\n",
              "      <td>101</td>\n",
              "      <td>19, Jong-ro 35ga-gil, Jongno-gu, Seoul, Republ...</td>\n",
              "      <td>37.572016</td>\n",
              "      <td>127.005007</td>\n",
              "      <td>0.003</td>\n",
              "      <td>0.046</td>\n",
              "      <td>0.002</td>\n",
              "      <td>1.1</td>\n",
              "      <td>70.0</td>\n",
              "      <td>61.0</td>\n",
              "    </tr>\n",
              "    <tr>\n",
              "      <th>6</th>\n",
              "      <td>2017-01-01 06:00</td>\n",
              "      <td>101</td>\n",
              "      <td>19, Jong-ro 35ga-gil, Jongno-gu, Seoul, Republ...</td>\n",
              "      <td>37.572016</td>\n",
              "      <td>127.005007</td>\n",
              "      <td>0.003</td>\n",
              "      <td>0.049</td>\n",
              "      <td>0.002</td>\n",
              "      <td>1.1</td>\n",
              "      <td>66.0</td>\n",
              "      <td>57.0</td>\n",
              "    </tr>\n",
              "    <tr>\n",
              "      <th>7</th>\n",
              "      <td>2017-01-01 07:00</td>\n",
              "      <td>101</td>\n",
              "      <td>19, Jong-ro 35ga-gil, Jongno-gu, Seoul, Republ...</td>\n",
              "      <td>37.572016</td>\n",
              "      <td>127.005007</td>\n",
              "      <td>0.003</td>\n",
              "      <td>0.045</td>\n",
              "      <td>0.002</td>\n",
              "      <td>1.0</td>\n",
              "      <td>71.0</td>\n",
              "      <td>60.0</td>\n",
              "    </tr>\n",
              "    <tr>\n",
              "      <th>8</th>\n",
              "      <td>2017-01-01 08:00</td>\n",
              "      <td>101</td>\n",
              "      <td>19, Jong-ro 35ga-gil, Jongno-gu, Seoul, Republ...</td>\n",
              "      <td>37.572016</td>\n",
              "      <td>127.005007</td>\n",
              "      <td>0.004</td>\n",
              "      <td>0.047</td>\n",
              "      <td>0.002</td>\n",
              "      <td>1.1</td>\n",
              "      <td>72.0</td>\n",
              "      <td>60.0</td>\n",
              "    </tr>\n",
              "    <tr>\n",
              "      <th>9</th>\n",
              "      <td>2017-01-01 09:00</td>\n",
              "      <td>101</td>\n",
              "      <td>19, Jong-ro 35ga-gil, Jongno-gu, Seoul, Republ...</td>\n",
              "      <td>37.572016</td>\n",
              "      <td>127.005007</td>\n",
              "      <td>0.003</td>\n",
              "      <td>0.047</td>\n",
              "      <td>0.002</td>\n",
              "      <td>1.1</td>\n",
              "      <td>74.0</td>\n",
              "      <td>63.0</td>\n",
              "    </tr>\n",
              "  </tbody>\n",
              "</table>\n",
              "</div>"
            ],
            "text/plain": [
              "   Measurement date  Station code  ...  PM10  PM2.5\n",
              "0  2017-01-01 00:00           101  ...  73.0   57.0\n",
              "1  2017-01-01 01:00           101  ...  71.0   59.0\n",
              "2  2017-01-01 02:00           101  ...  70.0   59.0\n",
              "3  2017-01-01 03:00           101  ...  70.0   58.0\n",
              "4  2017-01-01 04:00           101  ...  69.0   61.0\n",
              "5  2017-01-01 05:00           101  ...  70.0   61.0\n",
              "6  2017-01-01 06:00           101  ...  66.0   57.0\n",
              "7  2017-01-01 07:00           101  ...  71.0   60.0\n",
              "8  2017-01-01 08:00           101  ...  72.0   60.0\n",
              "9  2017-01-01 09:00           101  ...  74.0   63.0\n",
              "\n",
              "[10 rows x 11 columns]"
            ]
          },
          "metadata": {
            "tags": []
          },
          "execution_count": 21
        }
      ]
    },
    {
      "cell_type": "code",
      "metadata": {
        "id": "cFj-Od2FNYr7",
        "colab_type": "code",
        "outputId": "1bbce184-4149-4ebd-d040-42c222500f80",
        "colab": {
          "base_uri": "https://localhost:8080/",
          "height": 34
        }
      },
      "source": [
        "df=data['PM10']\n",
        "df=df.values\n",
        "df=df.reshape(df.shape[0],1)\n",
        "print(df.shape)"
      ],
      "execution_count": 22,
      "outputs": [
        {
          "output_type": "stream",
          "text": [
            "(647511, 1)\n"
          ],
          "name": "stdout"
        }
      ]
    },
    {
      "cell_type": "code",
      "metadata": {
        "id": "rzYngv6_TPhh",
        "colab_type": "code",
        "outputId": "41d42416-23a8-4bd4-abd6-19e3d844c266",
        "colab": {
          "base_uri": "https://localhost:8080/",
          "height": 34
        }
      },
      "source": [
        "list_=[]\n",
        "for i in range (0,df.shape[0]):\n",
        "  list_.append(df[i][0])\n",
        "print(len(list_))"
      ],
      "execution_count": 23,
      "outputs": [
        {
          "output_type": "stream",
          "text": [
            "647511\n"
          ],
          "name": "stdout"
        }
      ]
    },
    {
      "cell_type": "code",
      "metadata": {
        "id": "mFSUAFonN2ht",
        "colab_type": "code",
        "outputId": "4d2608b4-226f-48a4-e9a6-4ab077882166",
        "colab": {
          "base_uri": "https://localhost:8080/",
          "height": 34
        }
      },
      "source": [
        "window_size=5\n",
        "y=[]\n",
        "for i in range (0,len(list_)-5):\n",
        "  x=list_[i:i+window_size]\n",
        "  y.append(x)\n",
        "print(len(y),y[0])\n"
      ],
      "execution_count": 24,
      "outputs": [
        {
          "output_type": "stream",
          "text": [
            "647506 [73.0, 71.0, 70.0, 70.0, 69.0]\n"
          ],
          "name": "stdout"
        }
      ]
    },
    {
      "cell_type": "code",
      "metadata": {
        "id": "jOkLjiONN_dz",
        "colab_type": "code",
        "outputId": "690c610a-2d4c-494c-d1ab-7a7ba6c43899",
        "colab": {
          "base_uri": "https://localhost:8080/",
          "height": 376
        }
      },
      "source": [
        "matrix=np.matrix(y)\n",
        "print(matrix.shape)\n",
        "new_data = pd.DataFrame(matrix,columns=['X1','X2','X3','X4','Y'])\n",
        "new_data.head(10)\n"
      ],
      "execution_count": 25,
      "outputs": [
        {
          "output_type": "stream",
          "text": [
            "(647506, 5)\n"
          ],
          "name": "stdout"
        },
        {
          "output_type": "execute_result",
          "data": {
            "text/html": [
              "<div>\n",
              "<style scoped>\n",
              "    .dataframe tbody tr th:only-of-type {\n",
              "        vertical-align: middle;\n",
              "    }\n",
              "\n",
              "    .dataframe tbody tr th {\n",
              "        vertical-align: top;\n",
              "    }\n",
              "\n",
              "    .dataframe thead th {\n",
              "        text-align: right;\n",
              "    }\n",
              "</style>\n",
              "<table border=\"1\" class=\"dataframe\">\n",
              "  <thead>\n",
              "    <tr style=\"text-align: right;\">\n",
              "      <th></th>\n",
              "      <th>X1</th>\n",
              "      <th>X2</th>\n",
              "      <th>X3</th>\n",
              "      <th>X4</th>\n",
              "      <th>Y</th>\n",
              "    </tr>\n",
              "  </thead>\n",
              "  <tbody>\n",
              "    <tr>\n",
              "      <th>0</th>\n",
              "      <td>73.0</td>\n",
              "      <td>71.0</td>\n",
              "      <td>70.0</td>\n",
              "      <td>70.0</td>\n",
              "      <td>69.0</td>\n",
              "    </tr>\n",
              "    <tr>\n",
              "      <th>1</th>\n",
              "      <td>71.0</td>\n",
              "      <td>70.0</td>\n",
              "      <td>70.0</td>\n",
              "      <td>69.0</td>\n",
              "      <td>70.0</td>\n",
              "    </tr>\n",
              "    <tr>\n",
              "      <th>2</th>\n",
              "      <td>70.0</td>\n",
              "      <td>70.0</td>\n",
              "      <td>69.0</td>\n",
              "      <td>70.0</td>\n",
              "      <td>66.0</td>\n",
              "    </tr>\n",
              "    <tr>\n",
              "      <th>3</th>\n",
              "      <td>70.0</td>\n",
              "      <td>69.0</td>\n",
              "      <td>70.0</td>\n",
              "      <td>66.0</td>\n",
              "      <td>71.0</td>\n",
              "    </tr>\n",
              "    <tr>\n",
              "      <th>4</th>\n",
              "      <td>69.0</td>\n",
              "      <td>70.0</td>\n",
              "      <td>66.0</td>\n",
              "      <td>71.0</td>\n",
              "      <td>72.0</td>\n",
              "    </tr>\n",
              "    <tr>\n",
              "      <th>5</th>\n",
              "      <td>70.0</td>\n",
              "      <td>66.0</td>\n",
              "      <td>71.0</td>\n",
              "      <td>72.0</td>\n",
              "      <td>74.0</td>\n",
              "    </tr>\n",
              "    <tr>\n",
              "      <th>6</th>\n",
              "      <td>66.0</td>\n",
              "      <td>71.0</td>\n",
              "      <td>72.0</td>\n",
              "      <td>74.0</td>\n",
              "      <td>76.0</td>\n",
              "    </tr>\n",
              "    <tr>\n",
              "      <th>7</th>\n",
              "      <td>71.0</td>\n",
              "      <td>72.0</td>\n",
              "      <td>74.0</td>\n",
              "      <td>76.0</td>\n",
              "      <td>83.0</td>\n",
              "    </tr>\n",
              "    <tr>\n",
              "      <th>8</th>\n",
              "      <td>72.0</td>\n",
              "      <td>74.0</td>\n",
              "      <td>76.0</td>\n",
              "      <td>83.0</td>\n",
              "      <td>93.0</td>\n",
              "    </tr>\n",
              "    <tr>\n",
              "      <th>9</th>\n",
              "      <td>74.0</td>\n",
              "      <td>76.0</td>\n",
              "      <td>83.0</td>\n",
              "      <td>93.0</td>\n",
              "      <td>94.0</td>\n",
              "    </tr>\n",
              "  </tbody>\n",
              "</table>\n",
              "</div>"
            ],
            "text/plain": [
              "     X1    X2    X3    X4     Y\n",
              "0  73.0  71.0  70.0  70.0  69.0\n",
              "1  71.0  70.0  70.0  69.0  70.0\n",
              "2  70.0  70.0  69.0  70.0  66.0\n",
              "3  70.0  69.0  70.0  66.0  71.0\n",
              "4  69.0  70.0  66.0  71.0  72.0\n",
              "5  70.0  66.0  71.0  72.0  74.0\n",
              "6  66.0  71.0  72.0  74.0  76.0\n",
              "7  71.0  72.0  74.0  76.0  83.0\n",
              "8  72.0  74.0  76.0  83.0  93.0\n",
              "9  74.0  76.0  83.0  93.0  94.0"
            ]
          },
          "metadata": {
            "tags": []
          },
          "execution_count": 25
        }
      ]
    },
    {
      "cell_type": "code",
      "metadata": {
        "id": "rQivHZ8cpD6d",
        "colab_type": "code",
        "colab": {}
      },
      "source": [
        "# NORMALISE the DATASET\n",
        "#from sklearn import preprocessing\n",
        "#scaler = preprocessing.MinMaxScaler()\n",
        "#matrix= scaler.fit_transform(matrix)\n",
        "#mm_scaler.transform(X_test)\n",
        "#new_data = pd.DataFrame(matrix,columns=['X1','X2','X3','X4','Y'])\n",
        "#new_data.head(10)"
      ],
      "execution_count": 0,
      "outputs": []
    },
    {
      "cell_type": "code",
      "metadata": {
        "id": "0Z5frRmicq9M",
        "colab_type": "code",
        "outputId": "68751a46-0282-41a2-977d-1ee89a1509f4",
        "colab": {
          "base_uri": "https://localhost:8080/",
          "height": 136
        }
      },
      "source": [
        "print(matrix[:,4])"
      ],
      "execution_count": 27,
      "outputs": [
        {
          "output_type": "stream",
          "text": [
            "[[69.]\n",
            " [70.]\n",
            " [66.]\n",
            " ...\n",
            " [25.]\n",
            " [24.]\n",
            " [25.]]\n"
          ],
          "name": "stdout"
        }
      ]
    },
    {
      "cell_type": "code",
      "metadata": {
        "id": "SG1fsHWxOPTk",
        "colab_type": "code",
        "outputId": "2f43f514-44f7-4f8b-8281-0ca303bd8ac3",
        "colab": {
          "base_uri": "https://localhost:8080/",
          "height": 102
        }
      },
      "source": [
        "from sklearn import linear_model\n",
        "from sklearn.model_selection import train_test_split\n",
        "from sklearn.metrics import r2_score\n",
        "from sklearn.metrics import mean_squared_error\n",
        "X_train, X_test, y_train, y_test = train_test_split(matrix[:,0:4],matrix[:,4],test_size=0.33, random_state=42)\n",
        "lm = linear_model.LinearRegression()\n",
        "model = lm.fit(X_train,y_train)\n",
        "prediction=model.predict(X_test)\n",
        "print(prediction.shape,prediction[0:5])"
      ],
      "execution_count": 36,
      "outputs": [
        {
          "output_type": "stream",
          "text": [
            "(213677, 1) [[21.74557102]\n",
            " [44.69368274]\n",
            " [49.40633618]\n",
            " [29.06804932]\n",
            " [27.9314545 ]]\n"
          ],
          "name": "stdout"
        }
      ]
    },
    {
      "cell_type": "code",
      "metadata": {
        "id": "bye3z6vaOvbl",
        "colab_type": "code",
        "outputId": "4b8a47a1-4bf2-443b-9727-fa34dc6c24a8",
        "colab": {
          "base_uri": "https://localhost:8080/",
          "height": 68
        }
      },
      "source": [
        "print(model.score(X_train,y_train))\n",
        "print(model.intercept_)\n",
        "print(model.coef_)"
      ],
      "execution_count": 37,
      "outputs": [
        {
          "output_type": "stream",
          "text": [
            "0.5105500456186143\n",
            "[7.06947185]\n",
            "[[0.13482933 0.17524373 0.22460835 0.30336867]]\n"
          ],
          "name": "stdout"
        }
      ]
    },
    {
      "cell_type": "code",
      "metadata": {
        "id": "K9AvmWqwO0h1",
        "colab_type": "code",
        "outputId": "afa2fb69-f885-4c9a-fc5f-187dcb221d21",
        "colab": {
          "base_uri": "https://localhost:8080/",
          "height": 51
        }
      },
      "source": [
        "print(mean_squared_error(y_test,prediction)**0.5)\n",
        "print(r2_score(y_test,prediction))"
      ],
      "execution_count": 38,
      "outputs": [
        {
          "output_type": "stream",
          "text": [
            "49.07479051474295\n",
            "0.5316690253848002\n"
          ],
          "name": "stdout"
        }
      ]
    },
    {
      "cell_type": "code",
      "metadata": {
        "id": "7ZFxbkZwIfsr",
        "colab_type": "code",
        "colab": {
          "base_uri": "https://localhost:8080/",
          "height": 281
        },
        "outputId": "b8c77352-ee95-4193-87c7-3c67530d7ae9"
      },
      "source": [
        "plt.plot(y_test[0:100], color = 'black', label = 'TRUTH')\n",
        "plt.plot(prediction[0:100], color = 'green', label = 'PREDICTION')\n",
        "plt.title('Linear regression PERFORMANCE ON TEST SET')\n",
        "plt.ylabel('PM10')\n",
        "plt.legend()\n",
        "plt.show()"
      ],
      "execution_count": 39,
      "outputs": [
        {
          "output_type": "display_data",
          "data": {
            "image/png": "[encoded data removed]",
            "text/plain": [
              "<Figure size 432x288 with 1 Axes>"
            ]
          },
          "metadata": {
            "tags": [],
            "needs_background": "light"
          }
        }
      ]
    },
    {
      "cell_type": "code",
      "metadata": {
        "id": "hrZqAjEyGnIN",
        "colab_type": "code",
        "colab": {
          "base_uri": "https://localhost:8080/",
          "height": 105
        },
        "outputId": "8bcb7bb9-d00a-4419-ee49-0443ef7d3ef4"
      },
      "source": [
        "# BAYESIAN RIDGE REGRESSION\n",
        "from sklearn import linear_model\n",
        "model = linear_model.BayesianRidge()\n",
        "model.fit(X_train,y_train)\n",
        "prediction=model.predict(X_test)\n",
        "print(mean_squared_error(y_test,prediction)**0.5)\n",
        "print(r2_score(y_test,prediction))"
      ],
      "execution_count": 40,
      "outputs": [
        {
          "output_type": "stream",
          "text": [
            "49.07480482727325\n",
            "0.5316687522098291\n"
          ],
          "name": "stdout"
        },
        {
          "output_type": "stream",
          "text": [
            "/usr/local/lib/python3.6/dist-packages/sklearn/utils/validation.py:760: DataConversionWarning: A column-vector y was passed when a 1d array was expected. Please change the shape of y to (n_samples, ), for example using ravel().\n",
            "  y = column_or_1d(y, warn=True)\n"
          ],
          "name": "stderr"
        }
      ]
    },
    {
      "cell_type": "code",
      "metadata": {
        "id": "crUrc4mjO8uL",
        "colab_type": "code",
        "outputId": "148434df-b8d7-4afc-9edc-123905785c41",
        "colab": {
          "base_uri": "https://localhost:8080/",
          "height": 105
        }
      },
      "source": [
        "# IMLEMENTING  RANDOM FOREST ALGORITHM\n",
        "from sklearn.ensemble import RandomForestRegressor\n",
        "model= RandomForestRegressor(max_depth=2, random_state=0)\n",
        "model.fit(X_train,y_train)\n",
        "prediction=model.predict(X_test)\n",
        "print(mean_squared_error(y_test,prediction)**0.5)\n",
        "print(r2_score(y_test,prediction))"
      ],
      "execution_count": 41,
      "outputs": [
        {
          "output_type": "stream",
          "text": [
            "/usr/local/lib/python3.6/dist-packages/ipykernel_launcher.py:4: DataConversionWarning: A column-vector y was passed when a 1d array was expected. Please change the shape of y to (n_samples,), for example using ravel().\n",
            "  after removing the cwd from sys.path.\n"
          ],
          "name": "stderr"
        },
        {
          "output_type": "stream",
          "text": [
            "54.15445017512328\n",
            "0.42969881352795314\n"
          ],
          "name": "stdout"
        }
      ]
    },
    {
      "cell_type": "code",
      "metadata": {
        "id": "KAVNYF_yJXRN",
        "colab_type": "code",
        "colab": {
          "base_uri": "https://localhost:8080/",
          "height": 281
        },
        "outputId": "cc89d276-1d27-4101-8346-4f8b32e7e4fc"
      },
      "source": [
        "plt.plot(y_test[0:100], color = 'black', label = 'TRUTH')\n",
        "plt.plot(prediction[0:100], color = 'green', label = 'PREDICTION')\n",
        "plt.title('Random forest regression PERFORMANCE ON TEST SET')\n",
        "plt.ylabel('PM10')\n",
        "plt.legend()\n",
        "plt.show()"
      ],
      "execution_count": 43,
      "outputs": [
        {
          "output_type": "display_data",
          "data": {
            "image/png": "[encoded data removed]",
            "text/plain": [
              "<Figure size 432x288 with 1 Axes>"
            ]
          },
          "metadata": {
            "tags": [],
            "needs_background": "light"
          }
        }
      ]
    },
    {
      "cell_type": "code",
      "metadata": {
        "id": "VIgDwl3FE5KL",
        "colab_type": "code",
        "outputId": "365e7bee-6cdf-4199-d434-e5f76e988618",
        "colab": {
          "base_uri": "https://localhost:8080/",
          "height": 51
        }
      },
      "source": [
        "# IMPLEMENTING LASSO REGRESSION\n",
        "from sklearn import linear_model\n",
        "model = linear_model.Lasso(alpha=0.1)\n",
        "model.fit(X_train,y_train)\n",
        "prediction=model.predict(X_test)\n",
        "print(mean_squared_error(y_test,prediction)**0.5)\n",
        "print(r2_score(y_test,prediction))"
      ],
      "execution_count": 44,
      "outputs": [
        {
          "output_type": "stream",
          "text": [
            "49.074851965743726\n",
            "0.5316678525045985\n"
          ],
          "name": "stdout"
        }
      ]
    },
    {
      "cell_type": "code",
      "metadata": {
        "id": "s9oOYdsvFVAz",
        "colab_type": "code",
        "outputId": "506fb408-a683-4082-9e63-48d1c963fd0d",
        "colab": {
          "base_uri": "https://localhost:8080/",
          "height": 51
        }
      },
      "source": [
        "# RIDGE REGRESSION\n",
        "from sklearn.linear_model import Ridge\n",
        "model = Ridge(alpha=1.0)\n",
        "model.fit(X_train,y_train)\n",
        "prediction=model.predict(X_test)\n",
        "print(mean_squared_error(y_test,prediction)**0.5)\n",
        "print(r2_score(y_test,prediction))\n"
      ],
      "execution_count": 45,
      "outputs": [
        {
          "output_type": "stream",
          "text": [
            "49.0747905150216\n",
            "0.531669025379482\n"
          ],
          "name": "stdout"
        }
      ]
    },
    {
      "cell_type": "code",
      "metadata": {
        "id": "08afymABtSx4",
        "colab_type": "code",
        "outputId": "9d160c4c-0535-4d21-9ec3-34dcf2f09d1a",
        "colab": {
          "base_uri": "https://localhost:8080/",
          "height": 139
        }
      },
      "source": [
        "# IMPLEMENTING SUPPORT VECTOR\n",
        "from sklearn.svm import LinearSVR\n",
        "model= LinearSVR()\n",
        "model.fit(X_train,y_train)\n",
        "prediction=model.predict(X_test)\n",
        "print(mean_squared_error(y_test,prediction)**0.5)\n",
        "print(r2_score(y_test,prediction))"
      ],
      "execution_count": 46,
      "outputs": [
        {
          "output_type": "stream",
          "text": [
            "/usr/local/lib/python3.6/dist-packages/sklearn/utils/validation.py:760: DataConversionWarning: A column-vector y was passed when a 1d array was expected. Please change the shape of y to (n_samples, ), for example using ravel().\n",
            "  y = column_or_1d(y, warn=True)\n"
          ],
          "name": "stderr"
        },
        {
          "output_type": "stream",
          "text": [
            "51.66914583410209\n",
            "0.48084321105971506\n"
          ],
          "name": "stdout"
        },
        {
          "output_type": "stream",
          "text": [
            "/usr/local/lib/python3.6/dist-packages/sklearn/svm/_base.py:947: ConvergenceWarning: Liblinear failed to converge, increase the number of iterations.\n",
            "  \"the number of iterations.\", ConvergenceWarning)\n"
          ],
          "name": "stderr"
        }
      ]
    },
    {
      "cell_type": "code",
      "metadata": {
        "id": "LFR-uIKhMIPs",
        "colab_type": "code",
        "colab": {
          "base_uri": "https://localhost:8080/",
          "height": 281
        },
        "outputId": "2783b882-652d-4676-acee-a85f7b1ce7a1"
      },
      "source": [
        "plt.plot(y_test[0:100], color = 'black', label = 'TRUTH')\n",
        "plt.plot(prediction[0:100], color = 'green', label = 'PREDICTION')\n",
        "plt.title('SVM regression PERFORMANCE ON TEST SET')\n",
        "plt.ylabel('PM10')\n",
        "plt.legend()\n",
        "plt.show()"
      ],
      "execution_count": 47,
      "outputs": [
        {
          "output_type": "display_data",
          "data": {
            "image/png": "[encoded data removed]",
            "text/plain": [
              "<Figure size 432x288 with 1 Axes>"
            ]
          },
          "metadata": {
            "tags": [],
            "needs_background": "light"
          }
        }
      ]
    },
    {
      "cell_type": "code",
      "metadata": {
        "id": "tUpcjRA2hCQz",
        "colab_type": "code",
        "outputId": "eb6b6c96-e37a-46d8-cbc0-4442ff5d2ce0",
        "colab": {
          "base_uri": "https://localhost:8080/",
          "height": 1000
        }
      },
      "source": [
        "# IMPLEMENTING A NEURAL NETWORK\n",
        "from sklearn.preprocessing import StandardScaler\n",
        "#sc = StandardScaler()\n",
        "#X = sc.fit_transform(X)\n",
        "import keras\n",
        "from keras.models import Sequential\n",
        "from keras.layers import Dense\n",
        "# Neural network\n",
        "model = Sequential()\n",
        "model.add(Dense(128, input_dim=4, activation='relu'))\n",
        "model.add(Dense(512, activation='relu'))\n",
        "model.add(Dense(1, activation='relu'))\n",
        "\n",
        "\n",
        "model.compile(optimizer = \"adam\", loss ='mse', \n",
        "          metrics =[\"accuracy\"])\n",
        "history = model.fit(X_train, y_train, epochs=50, batch_size=64)"
      ],
      "execution_count": 49,
      "outputs": [
        {
          "output_type": "stream",
          "text": [
            "Epoch 1/50\n",
            "433829/433829 [==============================] - 20s 46us/step - loss: 2273.9166 - accuracy: 0.0571\n",
            "Epoch 2/50\n",
            "433829/433829 [==============================] - 19s 45us/step - loss: 2214.5914 - accuracy: 0.0573\n",
            "Epoch 3/50\n",
            "433829/433829 [==============================] - 20s 45us/step - loss: 2203.0965 - accuracy: 0.0567\n",
            "Epoch 4/50\n",
            "433829/433829 [==============================] - 20s 47us/step - loss: 2216.9185 - accuracy: 0.0580\n",
            "Epoch 5/50\n",
            "433829/433829 [==============================] - 20s 45us/step - loss: 2199.4428 - accuracy: 0.0587\n",
            "Epoch 6/50\n",
            "433829/433829 [==============================] - 20s 45us/step - loss: 2167.2966 - accuracy: 0.0603\n",
            "Epoch 7/50\n",
            "433829/433829 [==============================] - 19s 44us/step - loss: 2188.8088 - accuracy: 0.0596\n",
            "Epoch 8/50\n",
            "433829/433829 [==============================] - 19s 43us/step - loss: 2186.4760 - accuracy: 0.0659\n",
            "Epoch 9/50\n",
            "433829/433829 [==============================] - 19s 44us/step - loss: 2163.8538 - accuracy: 0.0660\n",
            "Epoch 10/50\n",
            "433829/433829 [==============================] - 19s 45us/step - loss: 2161.6835 - accuracy: 0.0650\n",
            "Epoch 11/50\n",
            "433829/433829 [==============================] - 19s 44us/step - loss: 2148.8669 - accuracy: 0.0661\n",
            "Epoch 12/50\n",
            "433829/433829 [==============================] - 19s 44us/step - loss: 2155.3083 - accuracy: 0.0646\n",
            "Epoch 13/50\n",
            "433829/433829 [==============================] - 19s 44us/step - loss: 2157.8479 - accuracy: 0.0664\n",
            "Epoch 14/50\n",
            "433829/433829 [==============================] - 19s 45us/step - loss: 2142.3303 - accuracy: 0.0695\n",
            "Epoch 15/50\n",
            "433829/433829 [==============================] - 19s 44us/step - loss: 2148.8847 - accuracy: 0.0690\n",
            "Epoch 16/50\n",
            "433829/433829 [==============================] - 19s 44us/step - loss: 2139.7393 - accuracy: 0.0694\n",
            "Epoch 17/50\n",
            "433829/433829 [==============================] - 19s 44us/step - loss: 2153.8455 - accuracy: 0.0725\n",
            "Epoch 18/50\n",
            "433829/433829 [==============================] - 19s 44us/step - loss: 2156.7594 - accuracy: 0.0709\n",
            "Epoch 19/50\n",
            "433829/433829 [==============================] - 19s 45us/step - loss: 2136.9230 - accuracy: 0.0675\n",
            "Epoch 20/50\n",
            "433829/433829 [==============================] - 21s 48us/step - loss: 2141.2499 - accuracy: 0.0695\n",
            "Epoch 21/50\n",
            "433829/433829 [==============================] - 19s 44us/step - loss: 2143.0624 - accuracy: 0.0704\n",
            "Epoch 22/50\n",
            "433829/433829 [==============================] - 19s 44us/step - loss: 2130.7948 - accuracy: 0.0727\n",
            "Epoch 23/50\n",
            "433829/433829 [==============================] - 19s 44us/step - loss: 2134.0385 - accuracy: 0.0686\n",
            "Epoch 24/50\n",
            "433829/433829 [==============================] - 19s 44us/step - loss: 2130.6247 - accuracy: 0.0688\n",
            "Epoch 25/50\n",
            "433829/433829 [==============================] - 19s 44us/step - loss: 2121.2752 - accuracy: 0.0687\n",
            "Epoch 26/50\n",
            "433829/433829 [==============================] - 19s 44us/step - loss: 2129.4550 - accuracy: 0.0711\n",
            "Epoch 27/50\n",
            "433829/433829 [==============================] - 19s 44us/step - loss: 2135.6846 - accuracy: 0.0698\n",
            "Epoch 28/50\n",
            "433829/433829 [==============================] - 20s 45us/step - loss: 2126.9230 - accuracy: 0.0720\n",
            "Epoch 29/50\n",
            "433829/433829 [==============================] - 19s 45us/step - loss: 2137.2575 - accuracy: 0.0698\n",
            "Epoch 30/50\n",
            "433829/433829 [==============================] - 20s 45us/step - loss: 2137.0781 - accuracy: 0.0689\n",
            "Epoch 31/50\n",
            "433829/433829 [==============================] - 19s 44us/step - loss: 2130.1134 - accuracy: 0.0701\n",
            "Epoch 32/50\n",
            "433829/433829 [==============================] - 19s 44us/step - loss: 2132.0968 - accuracy: 0.0692\n",
            "Epoch 33/50\n",
            "433829/433829 [==============================] - 19s 44us/step - loss: 2136.0064 - accuracy: 0.0700\n",
            "Epoch 34/50\n",
            "433829/433829 [==============================] - 20s 46us/step - loss: 2131.6493 - accuracy: 0.0732\n",
            "Epoch 35/50\n",
            "433829/433829 [==============================] - 20s 45us/step - loss: 2127.6777 - accuracy: 0.0733\n",
            "Epoch 36/50\n",
            "433829/433829 [==============================] - 20s 46us/step - loss: 2132.0059 - accuracy: 0.0706\n",
            "Epoch 37/50\n",
            "433829/433829 [==============================] - 20s 46us/step - loss: 2124.5710 - accuracy: 0.0711\n",
            "Epoch 38/50\n",
            "433829/433829 [==============================] - 20s 46us/step - loss: 2125.4296 - accuracy: 0.0742\n",
            "Epoch 39/50\n",
            "433829/433829 [==============================] - 20s 45us/step - loss: 2129.7270 - accuracy: 0.0726\n",
            "Epoch 40/50\n",
            "433829/433829 [==============================] - 20s 46us/step - loss: 2135.1300 - accuracy: 0.0727\n",
            "Epoch 41/50\n",
            "433829/433829 [==============================] - 19s 45us/step - loss: 2137.8738 - accuracy: 0.0723\n",
            "Epoch 42/50\n",
            "433829/433829 [==============================] - 20s 45us/step - loss: 2131.6507 - accuracy: 0.0749\n",
            "Epoch 43/50\n",
            "433829/433829 [==============================] - 19s 45us/step - loss: 2135.6045 - accuracy: 0.0722\n",
            "Epoch 44/50\n",
            "433829/433829 [==============================] - 19s 45us/step - loss: 2139.3556 - accuracy: 0.0700\n",
            "Epoch 45/50\n",
            "433829/433829 [==============================] - 20s 46us/step - loss: 2129.2032 - accuracy: 0.0742\n",
            "Epoch 46/50\n",
            "433829/433829 [==============================] - 19s 45us/step - loss: 2137.4958 - accuracy: 0.0718\n",
            "Epoch 47/50\n",
            "433829/433829 [==============================] - 20s 45us/step - loss: 2125.7596 - accuracy: 0.0728\n",
            "Epoch 48/50\n",
            "433829/433829 [==============================] - 20s 45us/step - loss: 2127.5850 - accuracy: 0.0737\n",
            "Epoch 49/50\n",
            "433829/433829 [==============================] - 20s 45us/step - loss: 2130.5863 - accuracy: 0.0708\n",
            "Epoch 50/50\n",
            "433829/433829 [==============================] - 19s 45us/step - loss: 2123.3866 - accuracy: 0.0718\n"
          ],
          "name": "stdout"
        }
      ]
    },
    {
      "cell_type": "code",
      "metadata": {
        "id": "txen3N-yvsAt",
        "colab_type": "code",
        "outputId": "9da1bfab-eae1-4613-ab26-b88a67d24e5a",
        "colab": {
          "base_uri": "https://localhost:8080/",
          "height": 329
        }
      },
      "source": [
        "print(history.history.keys())\n",
        "# \"Loss\"\n",
        "plt.plot(history.history['loss'])\n",
        "plt.title('model loss')\n",
        "plt.ylabel('loss')\n",
        "plt.xlabel('epoch')\n",
        "plt.legend(['train'], loc='upper left')\n",
        "plt.show()\n",
        "y_pred = model.predict(X_test)\n",
        "print(mean_squared_error(y_test,y_pred)**0.5)\n",
        "#Converting predictions to label\n"
      ],
      "execution_count": 50,
      "outputs": [
        {
          "output_type": "stream",
          "text": [
            "dict_keys(['loss', 'accuracy'])\n"
          ],
          "name": "stdout"
        },
        {
          "output_type": "display_data",
          "data": {
            "image/png": "[encoded data removed]",
            "text/plain": [
              "<Figure size 432x288 with 1 Axes>"
            ]
          },
          "metadata": {
            "tags": [],
            "needs_background": "light"
          }
        },
        {
          "output_type": "stream",
          "text": [
            "44.93363847013297\n"
          ],
          "name": "stdout"
        }
      ]
    },
    {
      "cell_type": "code",
      "metadata": {
        "id": "TTfaJJDaHGg9",
        "colab_type": "code",
        "outputId": "0f538553-f623-415b-8408-31055e64f0a6",
        "colab": {
          "base_uri": "https://localhost:8080/",
          "height": 170
        }
      },
      "source": [
        "print(X_train)\n",
        "X_train=np.asarray(X_train)\n",
        "X_test=np.asarray(X_test)\n",
        "y_train=np.asarray(y_train)\n",
        "y_test=np.asarray(y_test)\n",
        "\n",
        "print(X_train.shape)\n",
        "X_train=X_train.reshape(X_train.shape[0],X_train.shape[1],1)\n",
        "print(X_train.shape)"
      ],
      "execution_count": 0,
      "outputs": [
        {
          "output_type": "stream",
          "text": [
            "[[34. 32. 34. 36.]\n",
            " [33. 34. 39. 35.]\n",
            " [67. 66. 55. 59.]\n",
            " ...\n",
            " [29. 30. 32. 30.]\n",
            " [55. 48. 58. 61.]\n",
            " [35. 31. 32. 36.]]\n",
            "(433829, 4)\n",
            "(433829, 4, 1)\n"
          ],
          "name": "stdout"
        }
      ]
    },
    {
      "cell_type": "code",
      "metadata": {
        "id": "FFUuCp8g1vzB",
        "colab_type": "code",
        "outputId": "08e9fc69-f15e-447a-de1c-d806e9434950",
        "colab": {
          "base_uri": "https://localhost:8080/",
          "height": 1000
        }
      },
      "source": [
        "from keras.models import Sequential\n",
        "from keras.layers import Dense\n",
        "from keras.layers import LSTM\n",
        "from keras.layers import Dropout\n",
        "regressor = Sequential()\n",
        "\n",
        "regressor.add(LSTM(units = 50, return_sequences = True, input_shape = (X_train.shape[1], 1)))\n",
        "regressor.add(Dropout(0.2))\n",
        "\n",
        "regressor.add(LSTM(units = 50, return_sequences = True))\n",
        "regressor.add(Dropout(0.2))\n",
        "\n",
        "regressor.add(LSTM(units = 50, return_sequences = True))\n",
        "regressor.add(Dropout(0.2))\n",
        "\n",
        "regressor.add(LSTM(units = 50))\n",
        "regressor.add(Dropout(0.2))\n",
        "\n",
        "regressor.add(Dense(units = 1))\n",
        "\n",
        "regressor.compile(optimizer = 'adam', loss = 'mean_squared_error')\n",
        "\n",
        "history = regressor.fit(X_train, y_train, epochs = 30, batch_size = 32)"
      ],
      "execution_count": 0,
      "outputs": [
        {
          "output_type": "stream",
          "text": [
            "Using TensorFlow backend.\n"
          ],
          "name": "stderr"
        },
        {
          "output_type": "stream",
          "text": [
            "Epoch 1/30\n",
            "433829/433829 [==============================] - 162s 372us/step - loss: 4278.5471\n",
            "Epoch 2/30\n",
            "433829/433829 [==============================] - 168s 388us/step - loss: 3966.3714\n",
            "Epoch 3/30\n",
            "433829/433829 [==============================] - 180s 414us/step - loss: 3847.2253\n",
            "Epoch 4/30\n",
            "433829/433829 [==============================] - 179s 413us/step - loss: 3741.6052\n",
            "Epoch 5/30\n",
            "433829/433829 [==============================] - 174s 402us/step - loss: 3665.6531\n",
            "Epoch 6/30\n",
            "433829/433829 [==============================] - 166s 384us/step - loss: 3562.4802\n",
            "Epoch 7/30\n",
            "433829/433829 [==============================] - 167s 384us/step - loss: 3492.0946\n",
            "Epoch 8/30\n",
            "433829/433829 [==============================] - 181s 417us/step - loss: 3388.7154\n",
            "Epoch 9/30\n",
            "433829/433829 [==============================] - 182s 419us/step - loss: 3328.4315\n",
            "Epoch 10/30\n",
            "433829/433829 [==============================] - 180s 415us/step - loss: 3267.7367\n",
            "Epoch 11/30\n",
            "433829/433829 [==============================] - 163s 375us/step - loss: 3196.6556\n",
            "Epoch 12/30\n",
            "433829/433829 [==============================] - 160s 369us/step - loss: 3145.6835\n",
            "Epoch 13/30\n",
            "433829/433829 [==============================] - 163s 375us/step - loss: 3091.8830\n",
            "Epoch 14/30\n",
            "433829/433829 [==============================] - 165s 379us/step - loss: 3028.5201\n",
            "Epoch 15/30\n",
            "433829/433829 [==============================] - 168s 386us/step - loss: 2998.3899\n",
            "Epoch 16/30\n",
            "433829/433829 [==============================] - 167s 384us/step - loss: 2962.0911\n",
            "Epoch 17/30\n",
            "433829/433829 [==============================] - 162s 374us/step - loss: 2934.4338\n",
            "Epoch 18/30\n",
            "433829/433829 [==============================] - 176s 406us/step - loss: 2904.4099\n",
            "Epoch 19/30\n",
            "433829/433829 [==============================] - 169s 390us/step - loss: 2886.1652\n",
            "Epoch 20/30\n",
            "433829/433829 [==============================] - 172s 396us/step - loss: 2852.0978\n",
            "Epoch 21/30\n",
            "433829/433829 [==============================] - 176s 406us/step - loss: 2850.1811\n",
            "Epoch 22/30\n",
            "433829/433829 [==============================] - 170s 393us/step - loss: 2827.0406\n",
            "Epoch 23/30\n",
            "433829/433829 [==============================] - 165s 379us/step - loss: 2816.4240\n",
            "Epoch 24/30\n",
            "433829/433829 [==============================] - 169s 389us/step - loss: 2798.1113\n",
            "Epoch 25/30\n",
            "433829/433829 [==============================] - 171s 395us/step - loss: 2799.3344\n",
            "Epoch 26/30\n",
            "433829/433829 [==============================] - 167s 384us/step - loss: 2780.2297\n",
            "Epoch 27/30\n",
            "433829/433829 [==============================] - 161s 372us/step - loss: 2775.9152\n",
            "Epoch 28/30\n",
            "433829/433829 [==============================] - 163s 375us/step - loss: 2757.3636\n",
            "Epoch 29/30\n",
            "433829/433829 [==============================] - 166s 383us/step - loss: 2765.2474\n",
            "Epoch 30/30\n",
            "433829/433829 [==============================] - 167s 386us/step - loss: 2778.6281\n"
          ],
          "name": "stdout"
        }
      ]
    },
    {
      "cell_type": "code",
      "metadata": {
        "id": "GvEtr3IPv0Sh",
        "colab_type": "code",
        "outputId": "95bbc461-99d4-4987-9e65-f32dab9624b8",
        "colab": {
          "base_uri": "https://localhost:8080/",
          "height": 329
        }
      },
      "source": [
        "print(history.history.keys())\n",
        "# \"Loss\"\n",
        "plt.plot(history.history['loss'])\n",
        "plt.title('model loss')\n",
        "plt.ylabel('loss')\n",
        "plt.xlabel('epoch')\n",
        "plt.legend(['train'], loc='upper left')\n",
        "plt.show()\n",
        "X_test=X_test.reshape(X_test.shape[0],X_test.shape[1],1)\n",
        "y_pred = regressor.predict(X_test)\n",
        "print(mean_squared_error(y_test,y_pred)**0.5)"
      ],
      "execution_count": 0,
      "outputs": [
        {
          "output_type": "stream",
          "text": [
            "dict_keys(['loss'])\n"
          ],
          "name": "stdout"
        },
        {
          "output_type": "display_data",
          "data": {
            "image/png": "[encoded data removed]",
            "text/plain": [
              "<Figure size 432x288 with 1 Axes>"
            ]
          },
          "metadata": {
            "tags": [],
            "needs_background": "light"
          }
        },
        {
          "output_type": "stream",
          "text": [
            "51.711465429547054\n"
          ],
          "name": "stdout"
        }
      ]
    },
    {
      "cell_type": "code",
      "metadata": {
        "id": "64suBIQS8DmU",
        "colab_type": "code",
        "outputId": "e74c6fa9-7a82-479b-ef03-7a7837b2bcf0",
        "colab": {
          "base_uri": "https://localhost:8080/",
          "height": 281
        }
      },
      "source": [
        "plt.plot(y_test[0:100], color = 'black', label = 'TRUTH')\n",
        "plt.plot(y_pred[0:100], color = 'green', label = 'PREDICTION')\n",
        "plt.title('LSTM PERFORMANCE ON TEST SET')\n",
        "plt.ylabel('PM10')\n",
        "plt.legend()\n",
        "plt.show()"
      ],
      "execution_count": 0,
      "outputs": [
        {
          "output_type": "display_data",
          "data": {
            "image/png": "[encoded data removed]",
            "text/plain": [
              "<Figure size 432x288 with 1 Axes>"
            ]
          },
          "metadata": {
            "tags": [],
            "needs_background": "light"
          }
        }
      ]
    },
    {
      "cell_type": "code",
      "metadata": {
        "id": "M6ATb9dKn9KE",
        "colab_type": "code",
        "colab": {}
      },
      "source": [
        ""
      ],
      "execution_count": 0,
      "outputs": []
    },
    {
      "cell_type": "code",
      "metadata": {
        "id": "Gj9JlfvToq1-",
        "colab_type": "code",
        "colab": {}
      },
      "source": [
        ""
      ],
      "execution_count": 0,
      "outputs": []
    }
  ]
}